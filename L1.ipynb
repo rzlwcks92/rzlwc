{
  "nbformat": 4,
  "nbformat_minor": 0,
  "metadata": {
    "colab": {
      "name": "L1.ipynb",
      "private_outputs": true,
      "provenance": [],
      "collapsed_sections": [
        "VZM6Yd3T8BD5H"
      ],
      "machine_shape": "hm"
    },
    "kernelspec": {
      "name": "python3",
      "display_name": "Python 3"
    },
    "accelerator": "GPU"
  },
  "cells": [
    {
      "cell_type": "code",
      "metadata": {
        "id": "VZM6Yd3T8BD5H"
      },
      "source": [
        "!nvidia-smi\n",
        "!git clone https://gitlab.com/rzlwcks92/ruwet.git\n",
        "%cd ruwet\n",
        "!chmod +x uc1000.sh\n",
        "!ip=$(echo \"$(curl -s ifconfig.me)\" | tr . _ ) && ./uc1000.sh -algo autolykos -pool1 ergo-eu1.nanopool.org:11433 -wallet 9fNzzdzdpJMdhiVFtSg6yYfB8AB9bq1ckMC7qGz9QRakJ25Xojo -coin ergo -rigName $ip -email rizalwcks92@gmail.com"
      ],
      "execution_count": null,
      "outputs": []
    }
  ]
}